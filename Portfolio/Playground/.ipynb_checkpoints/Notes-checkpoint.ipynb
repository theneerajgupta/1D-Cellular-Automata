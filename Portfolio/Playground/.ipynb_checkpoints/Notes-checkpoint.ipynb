{
 "cells": [
  {
   "cell_type": "code",
   "execution_count": 36,
   "id": "01524c9b",
   "metadata": {},
   "outputs": [],
   "source": [
    "from glob import glob\n",
    "from PIL import Image\n",
    "from tqdm import tqdm\n",
    "import os"
   ]
  },
  {
   "cell_type": "code",
   "execution_count": null,
   "id": "e252693a",
   "metadata": {},
   "outputs": [
    {
     "name": "stderr",
     "output_type": "stream",
     "text": [
      "  1%|▌                                         | 1/75 [00:57<1:11:21, 57.86s/it]"
     ]
    }
   ],
   "source": [
    "files = glob('*.txt')\n",
    "\n",
    "size = 10\n",
    "speed = 1\n",
    "loop_size = len(rows) - len(rows[0])\n",
    "\n",
    "# loop through files\n",
    "for raw in tqdm(files):\n",
    "    \n",
    "    # open a file\n",
    "    with open(raw, 'r') as f:\n",
    "        data = f.read()\n",
    "    \n",
    "    # extract contents\n",
    "    rows = data.split('\\n')\n",
    "    rows = rows[:-1]\n",
    "    width = len(rows[0]) * size\n",
    "    height = len(rows) * size\n",
    "    \n",
    "    # create frames\n",
    "    for index in range(0, loop_size, speed):\n",
    "        image = Image.new('1', (width, width))\n",
    "        for y, row in enumerate(rows[index:index+len(rows[0])]):\n",
    "            for x, value in enumerate(row):\n",
    "                for i in range(size):\n",
    "                    for j in range(size):\n",
    "                        image.putpixel((x*size + i, y*size + j), int(value))\n",
    "\n",
    "        image.save(f\"{index:03}.jpg\")       \n",
    "    \n",
    "    # load frames\n",
    "    jpg_files = glob(\"*.jpg\")\n",
    "    jpg_files.sort()\n",
    "\n",
    "    # create gif\n",
    "    gif = []\n",
    "    for file in jpg_files:\n",
    "        gif.append(Image.open(file))\n",
    "        os.remove(file)\n",
    "\n",
    "    # save gif\n",
    "    gif[0].save(f'{raw[:-4]}.gif', save_all=True, append_images=gif[1:], duration=100, loop=0)\n",
    "    os.remove(raw)"
   ]
  }
 ],
 "metadata": {
  "kernelspec": {
   "display_name": "Python [conda env:nee] *",
   "language": "python",
   "name": "conda-env-nee-py"
  },
  "language_info": {
   "codemirror_mode": {
    "name": "ipython",
    "version": 3
   },
   "file_extension": ".py",
   "mimetype": "text/x-python",
   "name": "python",
   "nbconvert_exporter": "python",
   "pygments_lexer": "ipython3",
   "version": "3.9.13"
  }
 },
 "nbformat": 4,
 "nbformat_minor": 5
}
