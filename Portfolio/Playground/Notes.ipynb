{
 "cells": [
  {
   "cell_type": "code",
   "execution_count": 36,
   "id": "6d36af0d",
   "metadata": {},
   "outputs": [],
   "source": [
    "from glob import glob\n",
    "from PIL import Image\n",
    "from tqdm import tqdm\n",
    "import os"
   ]
  },
  {
   "cell_type": "code",
   "execution_count": 43,
   "id": "28c7846d",
   "metadata": {},
   "outputs": [
    {
     "name": "stderr",
     "output_type": "stream",
     "text": [
      "100%|███████████████████████████████████████████| 75/75 [35:58<00:00, 28.78s/it]\n"
     ]
    }
   ],
   "source": [
    "files = glob('*.txt')\n",
    "\n",
    "size = 10\n",
    "speed = 2\n",
    "loop_size = len(rows) - len(rows[0])\n",
    "\n",
    "# loop through files\n",
    "for raw in tqdm(files):\n",
    "    \n",
    "    # open a file\n",
    "    with open(raw, 'r') as f:\n",
    "        data = f.read()\n",
    "    \n",
    "    # extract contents\n",
    "    rows = data.split('\\n')\n",
    "    rows = rows[:-1]\n",
    "    width = len(rows[0]) * size\n",
    "    height = len(rows) * size\n",
    "    \n",
    "    # create frames\n",
    "    for index in range(0, loop_size, speed):\n",
    "        image = Image.new('1', (width, width))\n",
    "        for y, row in enumerate(rows[index:index+len(rows[0])]):\n",
    "            for x, value in enumerate(row):\n",
    "                for i in range(size):\n",
    "                    for j in range(size):\n",
    "                        image.putpixel((x*size + i, y*size + j), int(value))\n",
    "\n",
    "        image.save(f\"{index:03}.jpg\")       \n",
    "    \n",
    "    # load frames\n",
    "    jpg_files = glob(\"*.jpg\")\n",
    "    jpg_files.sort()\n",
    "\n",
    "    # create gif\n",
    "    gif = []\n",
    "    for file in jpg_files:\n",
    "        gif.append(Image.open(file))\n",
    "        os.remove(file)\n",
    "\n",
    "    # save gif\n",
    "    gif[0].save(f'{raw[:-4]}.gif', save_all=True, append_images=gif[1:], duration=200, loop=0)\n",
    "    os.remove(raw)"
   ]
  },
  {
   "cell_type": "code",
   "execution_count": null,
   "id": "0d3878ba",
   "metadata": {},
   "outputs": [],
   "source": []
  }
 ],
 "metadata": {
  "kernelspec": {
   "display_name": "Python [conda env:nee] *",
   "language": "python",
   "name": "conda-env-nee-py"
  },
  "language_info": {
   "codemirror_mode": {
    "name": "ipython",
    "version": 3
   },
   "file_extension": ".py",
   "mimetype": "text/x-python",
   "name": "python",
   "nbconvert_exporter": "python",
   "pygments_lexer": "ipython3",
   "version": "3.9.13"
  }
 },
 "nbformat": 4,
 "nbformat_minor": 5
}
