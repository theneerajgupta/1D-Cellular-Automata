{
 "cells": [
  {
   "cell_type": "code",
   "execution_count": 1,
   "id": "20f6afdf",
   "metadata": {},
   "outputs": [],
   "source": [
    "from glob import glob\n",
    "from PIL import Image\n",
    "from tqdm import tqdm"
   ]
  },
  {
   "cell_type": "code",
   "execution_count": 2,
   "id": "b8e9cb67",
   "metadata": {},
   "outputs": [],
   "source": [
    "files = glob('*.txt')"
   ]
  },
  {
   "cell_type": "code",
   "execution_count": 6,
   "id": "21654aaa",
   "metadata": {},
   "outputs": [],
   "source": [
    "size = 10"
   ]
  },
  {
   "cell_type": "code",
   "execution_count": 8,
   "id": "233d9baa",
   "metadata": {},
   "outputs": [
    {
     "name": "stderr",
     "output_type": "stream",
     "text": [
      "100%|█████████████████████████████████████████████| 5/5 [00:02<00:00,  2.19it/s]\n"
     ]
    }
   ],
   "source": [
    "for ll in tqdm(range(len(files))):\n",
    "    # Read the file\n",
    "    with open(files[ll], 'r') as f:\n",
    "        data = f.read()\n",
    "\n",
    "    # Create a list of rows\n",
    "    rows = data.split('\\n')\n",
    "\n",
    "    # Create an empty image with the same dimensions as the data\n",
    "    width = len(rows[0]) * size\n",
    "    height = len(rows) * size\n",
    "    image = Image.new('1', (width, height))\n",
    "\n",
    "    # Iterate over the rows and set the pixels to black or white based on the value\n",
    "    for y, row in enumerate(rows):\n",
    "        for x, value in enumerate(row):\n",
    "            for i in range(size):\n",
    "                for j in range(size):\n",
    "                    image.putpixel((x*size + i, y*size + j), int(value))\n",
    "\n",
    "    # Save the image\n",
    "    image.save(\"{0}.jpg\".format(ll))"
   ]
  },
  {
   "cell_type": "code",
   "execution_count": null,
   "id": "2bb3b0cf",
   "metadata": {},
   "outputs": [],
   "source": []
  }
 ],
 "metadata": {
  "kernelspec": {
   "display_name": "Python [conda env:nee] *",
   "language": "python",
   "name": "conda-env-nee-py"
  },
  "language_info": {
   "codemirror_mode": {
    "name": "ipython",
    "version": 3
   },
   "file_extension": ".py",
   "mimetype": "text/x-python",
   "name": "python",
   "nbconvert_exporter": "python",
   "pygments_lexer": "ipython3",
   "version": "3.9.13"
  }
 },
 "nbformat": 4,
 "nbformat_minor": 5
}
